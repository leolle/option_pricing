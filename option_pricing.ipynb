{
 "cells": [
  {
   "cell_type": "markdown",
   "metadata": {},
   "source": [
    "\n",
    "### Asian option pricing"
   ]
  },
  {
   "cell_type": "markdown",
   "metadata": {},
   "source": [
    "\n",
    "An Asian option is an option type where the payoff depends on the average price of the underlying asset over a certain period of time as opposed to standard options (American and European) where the payoff depends on the price of the underlying asset at a specific point in time (maturity). "
   ]
  },
  {
   "cell_type": "code",
   "execution_count": 15,
   "metadata": {},
   "outputs": [],
   "source": [
    "import numpy as np\n",
    "import matplotlib.pyplot as plt\n",
    "from scipy.stats import norm\n",
    "import time\n",
    "r = 0.01\n",
    "sigma = 0.2\n",
    "T = 90\n",
    "K = 16000\n",
    "S0 = 170000"
   ]
  },
  {
   "cell_type": "code",
   "execution_count": 8,
   "metadata": {},
   "outputs": [
    {
     "data": {
      "text/plain": [
       "(7175.2205135884597, 7125.5770002832096, 7075.9334869779595)"
      ]
     },
     "execution_count": 8,
     "metadata": {},
     "output_type": "execute_result"
    }
   ],
   "source": [
    "############## Calcul de l'espérance pour la lognormal\n",
    "\n",
    "def esperance(r = 0.01, sigma = 0.2, T = 90, S0 = 17000):\n",
    "    return ((np.exp(r*T)-1)*S0)/(r*T)\n",
    "\n",
    "\n",
    "############## Calcul de la variance pour la lognormal\n",
    "\n",
    "def variance(r = 0.01, sigma = 0.2, T = 90, S0 = 17000):\n",
    "    temp1 = (2*S0**2/((T**2)*(r+sigma**2)))\n",
    "    temp2 = (np.exp((2*r+sigma**2)*T)-1)/(2*r+sigma**2)\n",
    "    temp3 = (np.exp(r*T)-1)/r\n",
    "    temp = temp1 * (temp2 - temp3)\n",
    "    return temp - (((np.exp(r*T)-1)*S0)/(r*T))**2\n",
    "\n",
    "def ecarttype(r = 0.01, sigma = 0.2, T = 90, S0 = 17000):\n",
    "    return np.sqrt(variance(r, sigma, T, S0))\n",
    "\n",
    "\n",
    "esp = esperance()\n",
    "var = variance()\n",
    "EC = ecarttype()\n",
    "\n",
    "mulog = np.log(esp**2/np.sqrt(var + esp**2))\n",
    "sigmalog = np.sqrt(np.log(1 + (var/(esp**2))))\n",
    "\n",
    "\n",
    "################# Monte Carlo Simulation ##########\n",
    "\n",
    "def Monte_Carlo_lognormal(iterations = 1000000, K = 16000, T = 90, r = 0.01):\n",
    "    lognorm = np.random.lognormal(mulog, sigmalog, iterations)\n",
    "    Price = np.exp(-r*T) * np.maximum(lognorm - K, 0)\n",
    "    std = np.std(Price)\n",
    "    mean = np.mean(Price)\n",
    "    return mean+(1.96*std/np.sqrt(iterations)), mean, mean-(1.96*std/np.sqrt(iterations))\n",
    "\n",
    "\n",
    "Monte_Carlo_lognormal(iterations = 1000000, K = 16000, T = 90, r = 0.01)"
   ]
  },
  {
   "cell_type": "code",
   "execution_count": 9,
   "metadata": {},
   "outputs": [
    {
     "name": "stdout",
     "output_type": "stream",
     "text": [
      "8874.43\n"
     ]
    }
   ],
   "source": [
    "price = 16000 - 7125.57\n",
    "\n",
    "print(price)\n"
   ]
  },
  {
   "cell_type": "code",
   "execution_count": 11,
   "metadata": {},
   "outputs": [],
   "source": [
    "def Monte_Carlo_lognormal_it(iterations = 1000000, K = 17000, T = 90, r = 0.01):\n",
    "    lognorm = np.random.lognormal(mulog, sigmalog, iterations)\n",
    "    Price = np.exp(-r*T) * np.maximum(lognorm - K, 0)\n",
    "    lower_list = []\n",
    "    upper_list = []\n",
    "    mean_list = []\n",
    "    for i in range(1, iterations, 100):\n",
    "        std = np.std(Price[:i])\n",
    "        mean = np.mean(Price[:i])\n",
    "        mean_list.append(mean)\n",
    "        upper_list.append(mean+(1.96*std/np.sqrt(i)))\n",
    "        lower_list.append(mean-(1.96*std/np.sqrt(i)))\n",
    "    return upper_list, mean_list, lower_list\n",
    "mean  = Monte_Carlo_lognormal_it(iterations = 1000000, K = 16000, T = 90, r = 0.01)"
   ]
  },
  {
   "cell_type": "markdown",
   "metadata": {},
   "source": [
    "#### option greeks"
   ]
  },
  {
   "cell_type": "code",
   "execution_count": null,
   "metadata": {},
   "outputs": [],
   "source": [
    "\n"
   ]
  }
 ],
 "metadata": {
  "kernelspec": {
   "display_name": "Python 3",
   "language": "python",
   "name": "python3"
  },
  "language_info": {
   "codemirror_mode": {
    "name": "ipython",
    "version": 3
   },
   "file_extension": ".py",
   "mimetype": "text/x-python",
   "name": "python",
   "nbconvert_exporter": "python",
   "pygments_lexer": "ipython3",
   "version": "3.6.1"
  }
 },
 "nbformat": 4,
 "nbformat_minor": 2
}
